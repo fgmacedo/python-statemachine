{
  "cells": [
    {
      "cell_type": "code",
      "execution_count": null,
      "metadata": {
        "collapsed": false
      },
      "outputs": [],
      "source": [
        "%matplotlib inline"
      ]
    },
    {
      "cell_type": "markdown",
      "metadata": {},
      "source": [
        "\n# Traffic light machine\n\nDemonstrates the concept of ``cycle`` states.\n"
      ]
    },
    {
      "cell_type": "code",
      "execution_count": null,
      "metadata": {
        "collapsed": false
      },
      "outputs": [],
      "source": [
        "from statemachine import StateMachine, State\n\n\nclass TrafficLightMachine(StateMachine):\n    \"A traffic light machine\"\n    green = State(\"Green\", initial=True)\n    yellow = State(\"Yellow\")\n    red = State(\"Red\")\n\n    cycle = green.to(yellow) | yellow.to(red) | red.to(green)\n\n    def on_cycle(self, event_data=None):\n        return \"Running {} from {} to {}\".format(\n            event_data.event,\n            event_data.transition.source.identifier,\n            event_data.transition.destination.identifier,\n        )"
      ]
    }
  ],
  "metadata": {
    "kernelspec": {
      "display_name": "Python 3",
      "language": "python",
      "name": "python3"
    },
    "language_info": {
      "codemirror_mode": {
        "name": "ipython",
        "version": 3
      },
      "file_extension": ".py",
      "mimetype": "text/x-python",
      "name": "python",
      "nbconvert_exporter": "python",
      "pygments_lexer": "ipython3",
      "version": "3.8.1"
    }
  },
  "nbformat": 4,
  "nbformat_minor": 0
}