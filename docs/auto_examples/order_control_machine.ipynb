{
  "cells": [
    {
      "cell_type": "code",
      "execution_count": null,
      "metadata": {
        "collapsed": false
      },
      "outputs": [],
      "source": [
        "# import piplite\n# await piplite.install('python-statemachine[diagrams]')\n# import patch_repr_svg"
      ]
    },
    {
      "cell_type": "markdown",
      "metadata": {},
      "source": [
        "\n# Order control machine\n\nAn StateMachine that demonstrates `Guards` being used to control the state flow.\n"
      ]
    },
    {
      "cell_type": "code",
      "execution_count": null,
      "metadata": {
        "collapsed": false
      },
      "outputs": [],
      "source": [
        "from statemachine import State\nfrom statemachine import StateMachine\n\n\nclass OrderControl(StateMachine):\n    waiting_for_payment = State(\"Waiting for payment\", initial=True)\n    processing = State(\"Processing\")\n    shipping = State(\"Shipping\")\n    completed = State(\"Completed\", final=True)\n\n    add_to_order = waiting_for_payment.to(waiting_for_payment)\n    receive_payment = waiting_for_payment.to(\n        processing, cond=\"payments_enough\"\n    ) | waiting_for_payment.to(waiting_for_payment, unless=\"payments_enough\")\n    process_order = processing.to(shipping, cond=\"payment_received\")\n    ship_order = shipping.to(completed)\n\n    def __init__(self):\n        self.order_total = 0\n        self.payments = []\n        self.payment_received = False\n        super().__init__()\n\n    def payments_enough(self, amount):\n        return sum(self.payments) + amount >= self.order_total\n\n    def before_add_to_order(self, amount):\n        self.order_total += amount\n        return self.order_total\n\n    def before_receive_payment(self, amount):\n        self.payments.append(amount)\n        return self.payments\n\n    def after_receive_payment(self):\n        self.payment_received = True\n\n    def on_enter_waiting_for_payment(self):\n        self.payment_received = False"
      ]
    }
  ],
  "metadata": {
    "kernelspec": {
      "display_name": "Python 3",
      "language": "python",
      "name": "python3"
    },
    "language_info": {
      "codemirror_mode": {
        "name": "ipython",
        "version": 3
      },
      "file_extension": ".py",
      "mimetype": "text/x-python",
      "name": "python",
      "nbconvert_exporter": "python",
      "pygments_lexer": "ipython3",
      "version": "3.11.1"
    }
  },
  "nbformat": 4,
  "nbformat_minor": 0
}